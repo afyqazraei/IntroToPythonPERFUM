{
 "cells": [
  {
   "cell_type": "markdown",
   "metadata": {},
   "source": [
    "Random Walk\n",
    "\n",
    "A random walk is a mathematical object, known as a stochastic or random process, that describes a path that consists of a succession of random steps on some mathematical space such as the integers. An elementary example of a random walk is the random walk on the integer number line, Z , which starts at 0 and at each step moves +1 or −1 with equal probability. Some of the more common example of random walk is Brownian motion.\n",
    "\n",
    "This walk can be illustrated as follows. A marker is placed at zero on the number line, and a fair coin is flipped. If it lands on heads, the marker is moved one unit to the right. If it lands on tails, the marker is moved one unit to the left. After five flips, the marker could now be on -5, -3, -1, 1, 3, 5. \n",
    "\n",
    "For one dimensional random walk, the walker/marker which we assumed is initially at zero can either go to -1 or +1 with the same probability of 50% for each value. For two dimensional random walk, the marker now has 4 posibilities of where to go making the probability of each values (right, left, up, down in x and y axis) 25%.\n",
    "\n",
    "In higher dimensions, the set of randomly walked points has interesting geometric properties. In fact, one gets a discrete fractal, that is, a set which exhibits stochastic self-similarity on large scales. On small scales, one can observe \"jaggedness\" resulting from the grid on which the walk is performed.\n",
    "\n",
    "Problem\n",
    "With your knowledge of loops, arrays and plotting, construct a simple code of 1-D, 2-D and 3-D random walks with number of steps that is user prompted.\n",
    "\n",
    "For 3-D plotting, use:"
   ]
  },
  {
   "cell_type": "code",
   "execution_count": null,
   "metadata": {},
   "outputs": [],
   "source": [
    "from mpl_toolkits import mplot3d\n",
    "import matplotlib.pyplot as plt\n",
    "\n",
    "fig = plt.figure()\n",
    "ax = plt.axes(projection=\"3d\")\n",
    "\n",
    "ax.plot3D(x,y,z)\n",
    "plt.show()"
   ]
  }
 ],
 "metadata": {
  "kernelspec": {
   "display_name": "Python 3",
   "language": "python",
   "name": "python3"
  },
  "language_info": {
   "codemirror_mode": {
    "name": "ipython",
    "version": 3
   },
   "file_extension": ".py",
   "mimetype": "text/x-python",
   "name": "python",
   "nbconvert_exporter": "python",
   "pygments_lexer": "ipython3",
   "version": "3.7.4"
  }
 },
 "nbformat": 4,
 "nbformat_minor": 2
}
