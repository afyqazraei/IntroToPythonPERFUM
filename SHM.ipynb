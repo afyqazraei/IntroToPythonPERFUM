{
 "cells": [
  {
   "cell_type": "markdown",
   "metadata": {},
   "source": [
    "# Simple Pendulum"
   ]
  },
  {
   "cell_type": "markdown",
   "metadata": {},
   "source": [
    "$\\textbf{Problem.}$ Consider a pendulum with length $1\\ m$ and mass $1\\ kg$. Initially, the pendulum is released at an angle of $0.1\\ radian$ from its stationary position. Assume that the pendulum experiences no damping and driving force. Plot a graph of angular displacement against time."
   ]
  },
  {
   "cell_type": "code",
   "execution_count": null,
   "metadata": {},
   "outputs": [],
   "source": [
    "#Angle of 0.1 radian."
   ]
  },
  {
   "cell_type": "markdown",
   "metadata": {},
   "source": [
    "Now change the angle of displacement from $0.1$ to $1\\ radian$. Plot the graph and compare with the graph before."
   ]
  },
  {
   "cell_type": "code",
   "execution_count": null,
   "metadata": {},
   "outputs": [],
   "source": [
    "#Angle of 1 radian."
   ]
  },
  {
   "cell_type": "markdown",
   "metadata": {},
   "source": [
    "\n",
    "\n",
    "Bonus: Try to include the damping effect."
   ]
  },
  {
   "cell_type": "code",
   "execution_count": null,
   "metadata": {},
   "outputs": [],
   "source": [
    "#Angle of 0.1 radian (with damping)"
   ]
  },
  {
   "cell_type": "markdown",
   "metadata": {},
   "source": [
    "Useful formula:\n",
    "    \n",
    "$\\textbf{Euler method}$\n",
    "\n",
    "A general first order initial value problem will have the form of $\\frac{dy}{dx}=f(t,y)$ with $y(t_0)=y_0$. If we have $t_n$ and the approximation to the solution at this point, $y_n$, and we want to find the approximation at $t_{n+1}$, all we need to do is use the following.\n",
    "\n",
    "$y_{n+1} = y_n + f(t_n,y_n)\\cdot(t_{n+1}-t_n)$\n",
    "\n",
    "For uniform step size, we will have\n",
    "\n",
    "$y_{n+1} = y_n + f(t_n,y_n)\\cdot(h)$\n",
    "\n",
    "with $h=t_{n+1}-t_n$.\n",
    "\n",
    "\n",
    "\n",
    "$\\textbf{Euler-Cromer method}$\n",
    "\n",
    "It is also known as semi-implicit Euler method. It can be applied to a pair of differential equations of the form\n",
    "\n",
    "$\\frac{dx}{dt}=f(t,v)$,\n",
    "$\\frac{dv}{dt}=g(t,x)$,\n",
    "\n",
    "where $f$ and $g$ are given functions. The differential equations are to be solved with the initial condition\n",
    "$x(t_0)=x_0,\\ \\ v(t_0)=v_0$.\n",
    "\n",
    "The semi-implicit Euler method produces an approximate discrete solution by iterating\n",
    "\n",
    "$\\begin{align*}\n",
    "v_{n+1} &= v_n + g(t_n,x_n)\\Delta t \\\\\n",
    "x_{n+1} &= x_n + f(t_n,v_{n+1})\\Delta t.\n",
    "\\end{align*}$"
   ]
  }
 ],
 "metadata": {
  "kernelspec": {
   "display_name": "Python 3",
   "language": "python",
   "name": "python3"
  },
  "language_info": {
   "codemirror_mode": {
    "name": "ipython",
    "version": 3
   },
   "file_extension": ".py",
   "mimetype": "text/x-python",
   "name": "python",
   "nbconvert_exporter": "python",
   "pygments_lexer": "ipython3",
   "version": "3.7.4"
  }
 },
 "nbformat": 4,
 "nbformat_minor": 2
}
