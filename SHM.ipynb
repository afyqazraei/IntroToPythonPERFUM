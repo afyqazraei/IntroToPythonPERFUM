{
 "cells": [
  {
   "cell_type": "markdown",
   "metadata": {},
   "source": [
    "# Simple Pendulum"
   ]
  },
  {
   "cell_type": "markdown",
   "metadata": {},
   "source": [
    "###Background"
   ]
  },
  {
   "cell_type": "markdown",
   "metadata": {},
   "source": [
    "Simple harmonic motion is a type of the periodic oscillation where the restoring force is directly proportional to the displacement and acts in the direction opposite to that of displacement. It can serve as a mathematical model for a variety of motions, such as the oscillation of a spring. Besides, other phenomena like motion of simple pendulum as well as molecular vibration can be approximated by simple harmonic motion.\n",
    "\n",
    "Today we will look specifically on just the pendulum. As we all know, a pendulum is a weight suspended from a pivot so that it can swing freely. When a pendulum is displaced sideways from its resting, equilibrium position, it is subject to a restoring force due to gravity that will accelerate it back toward the equilibrium position. When released, the restoring force acting on the pendulum causes it to oscillate about the equilibrium position, swinging back and forth.\n",
    "\n",
    "From rotational motion, we know that\n",
    "\n",
    "$\\tau = I\\alpha$.\n",
    "\n",
    "After substituting the variables into the equation above, we have\n",
    "\n",
    "$-mgL sin(\\theta) = mL^2\\ddot{\\theta}$.\n",
    "\n",
    "The negative sign means that the restoring torque is trying the bring the pendulum to the equilibrium positon. Then with further simplification, the equation becomes\n",
    "\n",
    "$\\ddot{\\theta} = -\\frac{g}{L}sin(\\theta)$,$\\ \\ \\ \\ \\ Equation\\ 1$\n",
    "\n",
    "or\n",
    "\n",
    "$\\ddot{\\theta} \\approx -\\frac{g}{L}\\theta$,$\\ \\ \\ \\ \\ Equation\\ 2$\n",
    "\n",
    "with small angle approximation."
   ]
  },
  {
   "cell_type": "markdown",
   "metadata": {},
   "source": [
    "###Problem"
   ]
  },
  {
   "cell_type": "markdown",
   "metadata": {},
   "source": [
    "Consider a pendulum with length $1\\ m$ and mass $1\\ kg$. Initially, the pendulum is released at an angle of $0.1\\ radian$ from its stationary position. Assume that the pendulum experiences no damping and driving force. Plot a graph of angular displacement against time (both equation 1 and 2)."
   ]
  },
  {
   "cell_type": "code",
   "execution_count": null,
   "metadata": {},
   "outputs": [],
   "source": [
    "#Angle of 0.1 radian."
   ]
  },
  {
   "cell_type": "markdown",
   "metadata": {},
   "source": [
    "Now change the angle of displacement from $0.1$ to $1\\ radian$. Plot the graph and compare with the graph before. Discuss if there is any changes."
   ]
  },
  {
   "cell_type": "code",
   "execution_count": null,
   "metadata": {},
   "outputs": [],
   "source": [
    "#Angle of 1 radian."
   ]
  },
  {
   "cell_type": "markdown",
   "metadata": {},
   "source": [
    "\n",
    "\n",
    "Bonus: Try to include the damping effect."
   ]
  },
  {
   "cell_type": "code",
   "execution_count": null,
   "metadata": {},
   "outputs": [],
   "source": [
    "#Angle of 0.1 radian (with damping)"
   ]
  },
  {
   "cell_type": "markdown",
   "metadata": {},
   "source": [
    "###Useful formula:\n",
    "    \n",
    "$\\textbf{Euler method}$\n",
    "\n",
    "A general first order initial value problem will have the form of $\\frac{dy}{dx}=f(t,y)$ with $y(t_0)=y_0$. If we have $t_n$ and the approximation to the solution at this point, $y_n$, and we want to find the approximation at $t_{n+1}$, all we need to do is use the following.\n",
    "\n",
    "$y_{n+1} = y_n + f(t_n,y_n)\\cdot(t_{n+1}-t_n)$\n",
    "\n",
    "For uniform step size, we will have\n",
    "\n",
    "$y_{n+1} = y_n + f(t_n,y_n)\\cdot(h)$\n",
    "\n",
    "with $h=t_{n+1}-t_n$.\n",
    "\n",
    "\n",
    "\n",
    "$\\textbf{Euler-Cromer method}$\n",
    "\n",
    "It is also known as semi-implicit Euler method. It can be applied to a pair of differential equations of the form\n",
    "\n",
    "$\\frac{dx}{dt}=f(t,v)$,\n",
    "$\\frac{dv}{dt}=g(t,x)$,\n",
    "\n",
    "where $f$ and $g$ are given functions. The differential equations are to be solved with the initial condition\n",
    "$x(t_0)=x_0,\\ \\ v(t_0)=v_0$.\n",
    "\n",
    "The semi-implicit Euler method produces an approximate discrete solution by iterating\n",
    "\n",
    "$\\begin{align*}\n",
    "v_{n+1} &= v_n + g(t_n,x_n)\\Delta t \\\\\n",
    "x_{n+1} &= x_n + f(t_n,v_{n+1})\\Delta t.\n",
    "\\end{align*}$"
   ]
  },
  {
   "cell_type": "markdown",
   "metadata": {},
   "source": [
    "#Good luck and have fun!"
   ]
  }
 ],
 "metadata": {
  "kernelspec": {
   "display_name": "Python 3",
   "language": "python",
   "name": "python3"
  },
  "language_info": {
   "codemirror_mode": {
    "name": "ipython",
    "version": 3
   },
   "file_extension": ".py",
   "mimetype": "text/x-python",
   "name": "python",
   "nbconvert_exporter": "python",
   "pygments_lexer": "ipython3",
   "version": "3.7.4"
  }
 },
 "nbformat": 4,
 "nbformat_minor": 2
}
