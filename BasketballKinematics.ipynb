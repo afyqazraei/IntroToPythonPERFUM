{
 "cells": [
  {
   "cell_type": "markdown",
   "metadata": {},
   "source": [
    "# KINEMATICS OF BASKETBALL SHOT\n"
   ]
  },
  {
   "cell_type": "markdown",
   "metadata": {},
   "source": [
    "## Background"
   ]
  },
  {
   "cell_type": "markdown",
   "metadata": {},
   "source": [
    " Projectile motion is a form of motion experienced by an object or particle (a projectile) that is thrown near the Earth's surface and moves along a curved path under the action of gravity only (in particular, the effects of air resistance are assumed to be negligible). A basketball is a projectile when it is shot. The projectile motion causes the ball to swish through the basket even though you are shooting forward and upwards. \n",
    " \n",
    "Let's see the measurement of the court from the NBA official measurement from the wikipedia. The distance of the hoop from the ground is about 3.05 m and the hoop has a diameter of 46 cm. The distance of the hoop from the free throw is about 4.57 m while the distance from the 3 point distance is 724 cm. As we love things to be simple and easier, lets round of the value to 3m, 50 cm, 5m and 700cm.\n",
    "\n",
    "As you all may know, the displacement of projectile motion is be given by,\n",
    "\n",
    "$$ s = v_{0}t + \\frac{1}{2} at^2  $$\n",
    "\n",
    "since projectile motion is a nonlinear motion, the motion exist  on different axis.\n",
    "For horizontal axis or in this case the $x$-axis, since there is no acceleration which means $a=0$. Substitue the value of a to the displacement equation and we get\n",
    "\n",
    "$$ x = v_{0x} t $$\n",
    "or can be written as\n",
    "$$ x = v_{0} cos (\\theta) t $$\n",
    "\n",
    "For the vertical axis which is the $y$-axis , we have the gravity $a=-g$. So the displacement equation for $y$-axis is\n",
    "\n",
    "$$ y = v_{0y} t - \\frac{1}{2} gt^2 $$\n",
    "or can be written as\n",
    "$$ y = v_{0} sin(\\theta) t - \\frac{1}{2} g t^2 $$"
   ]
  },
  {
   "cell_type": "markdown",
   "metadata": {},
   "source": [
    "### Problem"
   ]
  },
  {
   "cell_type": "markdown",
   "metadata": {},
   "source": [
    "Assume the height the basketball player height is 2m. Using what you've learned about loops, array and plotting. Construct a $x$ against $t$ graph. For now let $v_{0}$ to be anything below 10 m/s."
   ]
  },
  {
   "cell_type": "code",
   "execution_count": null,
   "metadata": {},
   "outputs": [],
   "source": [
    "# x against t graph"
   ]
  },
  {
   "cell_type": "markdown",
   "metadata": {},
   "source": [
    "Next, plot $y$ against $t$."
   ]
  },
  {
   "cell_type": "code",
   "execution_count": null,
   "metadata": {},
   "outputs": [],
   "source": [
    "# y against t graph"
   ]
  },
  {
   "cell_type": "markdown",
   "metadata": {},
   "source": [
    "Now that you've done the 1-D plotting, let's proceed with 2-D.Plot $y$ against $x$ graph. It will be quite easy since you've plot the 1-D graph."
   ]
  },
  {
   "cell_type": "code",
   "execution_count": null,
   "metadata": {},
   "outputs": [],
   "source": [
    "# y against x graph"
   ]
  },
  {
   "cell_type": "markdown",
   "metadata": {},
   "source": [
    "For 3-D plotting, there will be exist another horizontal exist. So try to plot the 3-D graph.(x,y,z)\n",
    "\n",
    "To plot,use:\n",
    "\n",
    "``` \n",
    "from mpl_toolkits import mplot3d\n",
    "import matplotlib.pyplot as plt\n",
    "\n",
    "fig = plt.figure()\n",
    "ax = plt.axes(projection=\"3d\")\n",
    "\n",
    "ax.plot3D(x,y,z)\n",
    "plt.show()\n",
    " ```"
   ]
  },
  {
   "cell_type": "code",
   "execution_count": null,
   "metadata": {},
   "outputs": [],
   "source": [
    "# 3-D graph"
   ]
  },
  {
   "cell_type": "markdown",
   "metadata": {},
   "source": [
    "#### Bonus"
   ]
  },
  {
   "cell_type": "markdown",
   "metadata": {},
   "source": [
    "From the 2-D graph, using the information about the distance and diameter of the hoop, see if you can make whether the ball enter the loop by making the projectile graph intersect a line which represent the hoop."
   ]
  },
  {
   "cell_type": "code",
   "execution_count": null,
   "metadata": {},
   "outputs": [],
   "source": [
    "# shoooottt"
   ]
  },
  {
   "cell_type": "markdown",
   "metadata": {},
   "source": [
    "If 2-D is possible, why not try the intersection for 3-D but instead a line, change it to a circle using the diameter given.  To produce a flat circle, the code is\n",
    "\n",
    "...\n",
    "..."
   ]
  },
  {
   "cell_type": "code",
   "execution_count": null,
   "metadata": {},
   "outputs": [],
   "source": [
    "# fireeee"
   ]
  }
 ],
 "metadata": {
  "kernelspec": {
   "display_name": "Python 3",
   "language": "python",
   "name": "python3"
  },
  "language_info": {
   "codemirror_mode": {
    "name": "ipython",
    "version": 3
   },
   "file_extension": ".py",
   "mimetype": "text/x-python",
   "name": "python",
   "nbconvert_exporter": "python",
   "pygments_lexer": "ipython3",
   "version": "3.7.4"
  }
 },
 "nbformat": 4,
 "nbformat_minor": 2
}
