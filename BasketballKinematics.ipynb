{
 "cells": [
  {
   "cell_type": "markdown",
   "metadata": {},
   "source": [
    "# KINEMATICS OF BASKETBALL SHOT\n"
   ]
  },
  {
   "cell_type": "markdown",
   "metadata": {},
   "source": [
    "## Background"
   ]
  },
  {
   "cell_type": "markdown",
   "metadata": {},
   "source": [
    "We consider a basketball player who wants to throw a ball into the basket.  Which initial angle and velocity is required to reach the basket? First some facts: A basket ball has a diameter of $d = 0.24$ m and weighs $m = 0.6$ kg. Its air resistance coefficient is $cw = 0.45$, the air density is assumed to be $ρ = 1.23$ kg m$^{-3}$ and the basket is mounted at a height $y_B= 3.05$ m at a horizontal distance from the player $x_B= 2.00$ m. Finally we need the gravitational constant $9.81 m/s^2$. The motion of the ball is described by a differential equation of second order:\n",
    "\n",
    "$$ m\\ddot x = -F(s) cos [\\alpha (t)] $$\n",
    "\n",
    "$$ m\\ddot y = -F(s) sin [\\alpha (t)] - g, $$\n",
    "\n",
    "where $s$ is the speed of the ball, $s^2 = \\dot x^2+ \\dot y^2$ and $F(v)$ is the air resistance force:\n",
    "\n",
    "$$F(s) = \\frac{1}{2} ρc_w \\frac{π}{4}d^2 s^2$$\n",
    "\n",
    "and $α= arccos(\\dot x/s)$.\n",
    "\n",
    "It can be reformulated to a first order differential equation\n",
    "\n",
    "$$\\dot x=v_x$$\n",
    "$$\\dot y=v_y$$\n",
    "$$m \\dot v_x =−F(s) cos(α)$$\n",
    "$$m \\dot v_y =−F(s) sin(α)−g$$\n",
    "\n",
    "We assume initial conditions $x_0= 0 m$, $y_0= 1.75 m$ and an initial speed $s0= 7 m/s$ .The initial throwing angle $α_0$ with ̇$\\dot x_0 = s_0 cos α_0$ and ̇$\\dot y_0= s_0 sin α_0 $ is unknown.  If this were given, the position of the ball at any time could be determined by solving the differential equation. Numerically this could be done by applying the explicit Euler method with a sufficiently small step size.Here the final position $x_B$ , $y_B$ is given instead of the initial velocity data. The time $t_B$ when this position is reached is unknown.Such a problem is called a free boundary value problem. By introducing scaled time $τ=t/t_B$ and introducing a new unknown $z=t_B$ we can transform this into a classical boundary value problem\n",
    "\n",
    "\n",
    "̇$$\\dot x(τ)  =v_x(τ)z(τ)$$\n",
    "$$\\dot y(τ)  =v_y(τ)z(τ)$$\n",
    "$$̇\\dot z(τ)  =  0$$\n",
    "$$m ̇\\dot v_x(τ)  =−F(s(τ))z(τ) cos(α(τ))$$\n",
    "$$m ̇\\dot v_y(τ)  =−F(s(τ))z(τ) sin(α(τ))−g$$\n",
    "\n",
    "with the boundary conditions\n",
    "\n",
    "$$x(0) = 0,y(0) = 1.75,\\sqrt{ \\dot x_{0}^{2}+ \\dot y_{0}^{2}}=s_0, x(1) = x_B, y(1) = y_B.$$\n",
    "\n",
    "The idea (not the best) how to solve such a problem is quite simple: We just guess aninitial value for $z$, $z_0$, and an initial angle $α_0$ and solve this problem as if it were an initial value problem, using the explicit Euler method. The result we obtain clearly dependson these guesses. Let’s denote the result by\n",
    "\n",
    "$$x(1;z_0,α_0)y(1;z_0,α_0).$$\n",
    "\n",
    "We require now that the initial conditions fulfill the conditions\n",
    "\n",
    "$$x(1;z_0,α_0)−x_B=  0$$\n",
    "$$y(1;z_0,α_0)−y_B=  0.$$\n",
    "\n",
    "This defines a nonlinear equation system\n",
    "\n",
    "$$G(z_0, α_0) =\\begin{pmatrix} x(1;z_0,α_0)−x_B \\\\ y(1;z_0,α_0)−y_B \\\\ \\end{pmatrix} = 0 $$\n",
    "\n",
    "which can be solved by Newton’s method.\n",
    "\n",
    "\n"
   ]
  },
  {
   "cell_type": "markdown",
   "metadata": {},
   "source": [
    "### Task 1"
   ]
  },
  {
   "cell_type": "markdown",
   "metadata": {},
   "source": [
    "The explicit Euler method for solving $y^{′}(t) =f(t,y(t))$ over $t ∈[0,T]$ using $N$ steps introduces a grid $t_{i} =i \\frac{T}{N} = ih$ with corresponding approximationsu $i≈y(ti)$. The approximations are related through\n",
    "$$u_{i}=u_{i}−1+hf(t_{i}−1,u_{i}−1),   i= 1,...,N$$,\n",
    "$$u_{0}=y(0)$$.\n",
    "The reasoning behind this is just approximating the derivative by a small difference quotient: $y^′(t_{i})≈\\frac{(t_{i}+1)−y(t_i)}{t_i+1−t_{i}}$.Implement the explicit Euler method in a function which has $f$, $T$ and $N$ as input.It should return arrays of both the $t_i$ and the $u_i$."
   ]
  },
  {
   "cell_type": "markdown",
   "metadata": {},
   "source": [
    "later"
   ]
  },
  {
   "cell_type": "code",
   "execution_count": null,
   "metadata": {},
   "outputs": [],
   "source": [
    "\n"
   ]
  },
  {
   "cell_type": "markdown",
   "metadata": {},
   "source": [
    "### Task 2"
   ]
  },
  {
   "cell_type": "markdown",
   "metadata": {},
   "source": [
    "Implement a function or class for solving the boundary value problem (4) as aninitial value problem, ignoring the boundary condition at $x= 1$. The function needs to take $z_0$ and $α_0$ as input (at least). You can use Euler method.\n"
   ]
  },
  {
   "cell_type": "markdown",
   "metadata": {},
   "source": [
    "\n",
    "\n",
    "\n",
    "\n",
    "\n",
    "\n",
    "\n",
    "\n",
    "\n"
   ]
  },
  {
   "cell_type": "markdown",
   "metadata": {},
   "source": [
    "later"
   ]
  },
  {
   "cell_type": "code",
   "execution_count": null,
   "metadata": {},
   "outputs": [],
   "source": []
  },
  {
   "cell_type": "markdown",
   "metadata": {},
   "source": [
    "### Task 3"
   ]
  },
  {
   "cell_type": "markdown",
   "metadata": {},
   "source": [
    "Implement a function that plots the basket ball trajectory."
   ]
  },
  {
   "cell_type": "markdown",
   "metadata": {},
   "source": [
    "later"
   ]
  },
  {
   "cell_type": "code",
   "execution_count": null,
   "metadata": {},
   "outputs": [],
   "source": []
  },
  {
   "cell_type": "markdown",
   "metadata": {},
   "source": [
    "### Task 4"
   ]
  },
  {
   "cell_type": "markdown",
   "metadata": {},
   "source": [
    "Implement a function that uses Newton’s method to solve a nonlinear equation system."
   ]
  },
  {
   "cell_type": "markdown",
   "metadata": {},
   "source": [
    "later"
   ]
  },
  {
   "cell_type": "code",
   "execution_count": null,
   "metadata": {},
   "outputs": [],
   "source": []
  },
  {
   "cell_type": "markdown",
   "metadata": {},
   "source": [
    "### Task 5"
   ]
  },
  {
   "cell_type": "markdown",
   "metadata": {},
   "source": [
    "Apply the last function to the system given in (5) to find the optimal angleα0andthe corresponding $t_B$. Plot the final result as well as the intermediary trajectories."
   ]
  },
  {
   "cell_type": "markdown",
   "metadata": {},
   "source": [
    "later"
   ]
  },
  {
   "cell_type": "code",
   "execution_count": null,
   "metadata": {},
   "outputs": [],
   "source": []
  }
 ],
 "metadata": {
  "kernelspec": {
   "display_name": "Python 3",
   "language": "python",
   "name": "python3"
  },
  "language_info": {
   "codemirror_mode": {
    "name": "ipython",
    "version": 3
   },
   "file_extension": ".py",
   "mimetype": "text/x-python",
   "name": "python",
   "nbconvert_exporter": "python",
   "pygments_lexer": "ipython3",
   "version": "3.7.4"
  }
 },
 "nbformat": 4,
 "nbformat_minor": 2
}
