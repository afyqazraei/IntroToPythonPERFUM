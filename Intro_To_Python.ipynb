{
 "cells": [
  {
   "cell_type": "markdown",
   "metadata": {},
   "source": [
    "# Introduction To Python"
   ]
  },
  {
   "cell_type": "markdown",
   "metadata": {},
   "source": [
    "Python is one of the many programming languages out there, and also one of the easiets and most widely used. If one understands its utility, Python is powerful and capable of doing a lot. Here, we will lay out the basic syntax and modules that are commonly used in basic programming that might be used in certain fields of physics (eg: particle physics, astrophysics, AMO physics, etc.) Enough chitchat, let's get on to it. Ikuzo!"
   ]
  },
  {
   "cell_type": "markdown",
   "metadata": {},
   "source": [
    "## Basic Syntax & Arithmetic"
   ]
  },
  {
   "cell_type": "markdown",
   "metadata": {},
   "source": [
    "Let's start out with a basic exercise. \n",
    "\n",
    "**Exercise 1: Tell us your name and age in one line.**"
   ]
  },
  {
   "cell_type": "code",
   "execution_count": null,
   "metadata": {},
   "outputs": [],
   "source": [
    "# In-code lines that start with \"#\" are considered as comments, so Python will not run them\n",
    "# print(\"Nama saya Abu dan saya 235 tahun\")\n",
    "\n"
   ]
  },
  {
   "cell_type": "markdown",
   "metadata": {},
   "source": [
    "Like other programming languages, Python requires users to declare variables and assign values to them beforehand most of the time, but unlike C or C++, Python is **duck typed**. How does that work?\n",
    "\n",
    "**Duck typing** enables programmers to not worry about the type of class of the variables, in contrast to **hard typing** which is the case for C & C++ (for those of you who have experience programming in them). Essentially, Python automatically knows and is able to differentiate between integers, floats and strings in most situations.\n",
    "\n",
    "Speaking of data types, those of a relevance for now are:\n",
    "\n",
    "    Text:    str\n",
    "    Numeric: int, float\n",
    "    Boolean: bool\n",
    "\n",
    "**Exercise 1.1: By using variables, tell us your name and age. After that, print out the data type for those variables. Now, change the data type for one of the variables and check again.**"
   ]
  },
  {
   "cell_type": "code",
   "execution_count": null,
   "metadata": {},
   "outputs": [],
   "source": [
    "# nama           = \"izuku midoriya\"\n",
    "# umur           =  16\n",
    "# jenisdata      = type(variable)\n",
    "# float_variable = float(int_variable)\n",
    "\n"
   ]
  },
  {
   "cell_type": "markdown",
   "metadata": {},
   "source": [
    "Let's move on to the next topic for syntax, **indentation**. Other programming languages usually don't require indentation for in line code, but programmers usually add it to improve readability. Python on the other hand uses indentation to indicate a block of code. Example:\n",
    "\n",
    "    if joey == handsome:\n",
    "        print(\"Notice me, senpai!\")\n",
    "    else:\n",
    "        print(\"That can't possibly be true?\")\n",
    "\n",
    "**Exercise 2: Are all of you above physics students, 18 years old and below 23 years old? By using the 'if' statement, print out your names given those conditions. Next, choose a random number to be your age and run that line again.**\n",
    "\n",
    "Hint:\n",
    "\n",
    "Comparison operators:\n",
    "\n",
    "    Equal:            a == b\n",
    "    Not equal:        a != b\n",
    "    Greater than:     a > b\n",
    "    Less than:        a < b\n",
    "    Greater or equal: a >= b\n",
    "    Less or equal:    a <= b\n",
    "\n",
    "Logical operators: \n",
    "\n",
    "    and \n",
    "    or "
   ]
  },
  {
   "cell_type": "code",
   "execution_count": null,
   "metadata": {},
   "outputs": [],
   "source": [
    "dept = \"physics\"\n",
    "\n"
   ]
  },
  {
   "cell_type": "markdown",
   "metadata": {},
   "source": [
    "Now, you have the variables but how do you use them in calculations? Python has arithmetic operators to perform common mathematical operations using those variables.\n",
    "\n",
    "    Add:        x + y\n",
    "    Subtract:   x - y\n",
    "    Multiply:   x * y\n",
    "    Divide:     x / y\n",
    "    Modulus of: x % y\n",
    "    Power of:   x ** y\n",
    "\n",
    "One can also reassign (update) the values in a variable:\n",
    "\n",
    "    x = x + 3  ->  x += 3\n",
    "    y = y - x  ->  y -= x\n",
    "    z = z / y  ->  z /= y\n",
    "    \n",
    "**Exercise 3: Given the equation 0 = 8x^2 - 6x + 1.125 , find the root using the quadratic formula. Update the root value by adding 6.66 and plug it in to the equation. Translate it into programming.**"
   ]
  },
  {
   "cell_type": "code",
   "execution_count": null,
   "metadata": {},
   "outputs": [],
   "source": [
    "\n",
    "\n"
   ]
  },
  {
   "cell_type": "markdown",
   "metadata": {},
   "source": [
    "As you've seen in the exercise 2, `if else` statements are sequential and are run over only once. There are moments where you want to run over them multiple times. Here, loop statements becomes useful.\n",
    "\n",
    "There are two type of loops: a `while` loop and a `for` loop.\n",
    "\n",
    "Example of a `while` loop:\n",
    "    \n",
    "    year = 1998\n",
    "    age  = 0\n",
    "    \n",
    "    while year < 2019:\n",
    "        year += 1\n",
    "        age  += 1\n",
    "        print(age)\n",
    "        \n",
    "Example of a `for` loop:\n",
    "\n",
    "    for year in range(1998, 2019):\n",
    "        age += 1\n",
    "        print(age)\n",
    "        \n",
    "**Exercise 4: Using the Fibonacci sequence, print out the numbers up to 1000. Use the \"while\" loop.**\n",
    "\n",
    "Hint: The Fibonacci Sequence\n",
    "\n",
    "$F_n = F_{n-1} + F_{n-2}$"
   ]
  },
  {
   "cell_type": "code",
   "execution_count": null,
   "metadata": {},
   "outputs": [],
   "source": []
  },
  {
   "cell_type": "markdown",
   "metadata": {},
   "source": [
    "Sometimes, you have two varying numbers that change independently. Then, one has to learn to use nested loops. Other times, you may want to skip the remaining sequence in the loops, then you will need to use loop control sequence (continue, break). \n",
    "\n",
    "Example (just a random code, has no meaning):\n",
    "\n",
    "    for i in range(50):\n",
    "        if i%2 == 2: \n",
    "            continue\n",
    "        for j in range(50):\n",
    "            k = i + j\n",
    "            if k > 50: \n",
    "                break\n",
    "                print(i, k, j)\n",
    "            \n",
    "\n",
    "**Exercise 5: Given the Rydberg constant, R = 1.097e-2, show the wavelength of hydrogen lines.**\n",
    "\n",
    "Hint: The Rydberg formula.\n",
    "\n",
    "$\\frac{1}{\\lambda} = R(\\frac{1}{n_1^2} - \\frac{1}{n_2^2})$"
   ]
  },
  {
   "cell_type": "code",
   "execution_count": null,
   "metadata": {},
   "outputs": [],
   "source": []
  },
  {
   "cell_type": "markdown",
   "metadata": {},
   "source": [
    "Some blocks of code are used multiple times but a different instances, mentioning them one by one would be cumbersome. Here, users can define functions themselves besides the ones provided normally. Example:\n",
    "\n",
    "    def function_name(parameter_1, parameter_2):\n",
    "    \n",
    "        value = parameter_1 + parameter_2\n",
    "        print(value)\n",
    "        \n",
    "        return value \n",
    "        \n",
    "Python is an interpreter language, hence user-defined functions need to be defined above before the main body. After that, the function may be called whenever required. Example:\n",
    "\n",
    "    y = 5\n",
    "    z = 6\n",
    "    x = function_name(y,z)\n",
    "    print(x)\n",
    "\n",
    "\n",
    "**Exercise 6: Using functions, calculate the root of $6x^2 - 3x + 4$**\n",
    "\n",
    "Hint: Define the function using the quadratic formula\n",
    "\n",
    "$ x = \\frac{-b  \\pm  \\sqrt{b^2 - 4ac}}{2a} $\n"
   ]
  },
  {
   "cell_type": "code",
   "execution_count": null,
   "metadata": {},
   "outputs": [],
   "source": []
  },
  {
   "cell_type": "markdown",
   "metadata": {},
   "source": [
    "Functions may come in handy, but when there are a lot of them it is practical to use modules instead of defining all of them in one script. Multiple modules can also be compiled together in a package that can be imported as well. In Python, libraries can be loosely defined as packages as well. There are many common packages that are ready-made for multiple purposes. Calling the modules are as simple as:\n",
    "\n",
    "```\n",
    "import module_name\n",
    "```\n",
    "\n",
    "Among the many Python modules out there, the ones that may be of relevance for undergraduate physics courses are:\n",
    "\n",
    "```\n",
    "math\n",
    "numpy\n",
    "matplotlib\n",
    "pandas\n",
    "```\n",
    "\n",
    "There are many more, but we'll leave that for you to explore.\n",
    "\n",
    "**Exercise 7: Using a function and a mathematical package, calculate $f(x) = sin(x)/x$ for $x = 0, 2, \\pi$.**"
   ]
  },
  {
   "cell_type": "code",
   "execution_count": null,
   "metadata": {},
   "outputs": [],
   "source": []
  },
  {
   "cell_type": "markdown",
   "metadata": {},
   "source": [
    "Real-life experiments will mostly require you to manipulate large sets of numbers using similar computation methods. Calculating them one by one will be tedious, hence the need for arrays, or what they are generally called in Python, lists. Example:\n",
    "\n",
    "```\n",
    "age     = [18, 19, 20, 21, 22]\n",
    "mass    = [500, 1000, 2000, 4000, 8000]\n",
    "courses = [\"math\", \"physics\", \"stamp collecting\"]\n",
    "```\n",
    "List index starts from 0 and onwards in integer numbers, so:\n",
    "\n",
    "```\n",
    "age[3]     = 21\n",
    "mass[0]    = 500\n",
    "courses[1] = \"physics\"\n",
    "\n",
    "To initialize a list,\n",
    "\n",
    "```\n",
    "\n",
    "To add an element into a list, one may use `extend` or `append`:\n",
    "\n",
    "```\n",
    "x = [16000, 32000]\n",
    "mass.append(x)\n",
    "\n",
    "y = [60, 61, 63]\n",
    "age.extend(y)\n",
    "```\n",
    "\n",
    "When printed, both will appear as:\n",
    "\n",
    "```\n",
    "mass = [500, 1000, 2000, 4000, 8000, [16000, 32000]]\n",
    "age  = [18, 19, 20, 21, 22, 60, 61, 63]\n",
    "```\n",
    "\n",
    "One can also call members of a list in a `for` loop:\n",
    "\n",
    "```\n",
    "for ilist in list:\n",
    "    print ilist\n",
    "```\n",
    "\n",
    "It is useful to get used to using multidimensional arrays, such as:\n",
    "\n",
    "```\n",
    "students = [[\"Ali\", 3.44], [\"Abu\", 3.77], [\"Leeroy\", 2.50], [\"Jenkins, 3.98]]\n",
    "\n",
    "students[1]    = [\"Abu, 3,77]\n",
    "students[3][1] = 3.98\n",
    "```\n",
    "\n",
    "Here are other good to know tips regarding arrays:\n",
    "\n",
    "- To know the number of members in a list, use `len(list)`.\n",
    "- To 'slice' arrays, use `list[a:b]` where a and b are the borders of the range of elements you want to slice.\n",
    "- To remove an element from an array, use `del list[i]`.\n",
    "- To sort multidimensional arrays, use the `sort()` function.\n",
    "\n",
    "![resistor](/images/resistors.png)"
   ]
  },
  {
   "cell_type": "code",
   "execution_count": null,
   "metadata": {},
   "outputs": [],
   "source": []
  },
  {
   "cell_type": "markdown",
   "metadata": {},
   "source": [
    "// user input //"
   ]
  },
  {
   "cell_type": "code",
   "execution_count": null,
   "metadata": {},
   "outputs": [],
   "source": []
  },
  {
   "cell_type": "markdown",
   "metadata": {},
   "source": [
    "// plotting // matplotlib"
   ]
  },
  {
   "cell_type": "code",
   "execution_count": null,
   "metadata": {},
   "outputs": [],
   "source": []
  },
  {
   "cell_type": "markdown",
   "metadata": {},
   "source": [
    "// ending // "
   ]
  }
 ],
 "metadata": {
  "kernelspec": {
   "display_name": "Python 3",
   "language": "python",
   "name": "python3"
  },
  "language_info": {
   "codemirror_mode": {
    "name": "ipython",
    "version": 3
   },
   "file_extension": ".py",
   "mimetype": "text/x-python",
   "name": "python",
   "nbconvert_exporter": "python",
   "pygments_lexer": "ipython3",
   "version": "3.7.4"
  }
 },
 "nbformat": 4,
 "nbformat_minor": 2
}
