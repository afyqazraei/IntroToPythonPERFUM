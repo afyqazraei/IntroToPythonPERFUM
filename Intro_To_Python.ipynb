{
 "cells": [
  {
   "cell_type": "markdown",
   "metadata": {},
   "source": [
    "# Introduction To Python"
   ]
  },
  {
   "cell_type": "markdown",
   "metadata": {},
   "source": [
    "Python is one of the many programming languages out there, and also one of the easiets and most widely used. If one understands its utility, Python is powerful and capable of doing a lot. Here, we will lay out the basic syntax and modules that are commonly used in basic programming that might be used in certain fields of physics (eg: particle physics, astrophysics, AMO physics, etc.) Enough chitchat, let's get on to it. Ikuzo!"
   ]
  },
  {
   "cell_type": "markdown",
   "metadata": {},
   "source": [
    "## Basic Syntax & Arithmetic"
   ]
  },
  {
   "cell_type": "markdown",
   "metadata": {},
   "source": [
    "Let's start out with a basic exercise. \n",
    "\n",
    "**Exercise 1: Tell us your name and age in one line.**"
   ]
  },
  {
   "cell_type": "code",
   "execution_count": null,
   "metadata": {},
   "outputs": [],
   "source": [
    "# In-code lines that start with \"#\" are considered as comments, so Python will not run them\n",
    "# print(\"Nama saya Abu dan saya 235 tahun\")\n",
    "\n"
   ]
  },
  {
   "cell_type": "markdown",
   "metadata": {},
   "source": [
    "Like other programming languages, Python requires users to declare variables and assign values to them beforehand most of the time, but unlike C or C++, Python is **duck typed**. How does that work?\n",
    "\n",
    "**Duck typing** enables programmers to not worry about the type of class of the variables, in contrast to **hard typing** which is the case for C & C++ (for those of you who have experience programming in them). Essentially, Python automatically knows and is able to differentiate between integers, floats and strings in most situations.\n",
    "\n",
    "Speaking of data types, those of a relevance for now are:\n",
    "\n",
    "    Text:    str\n",
    "    Numeric: int, float\n",
    "    Boolean: bool\n",
    "\n",
    "**Exercise 1.1: By using variables, tell us your name and age. After that, print out the data type for those variables. Now, change the data type for one of the variables and check again.**"
   ]
  },
  {
   "cell_type": "code",
   "execution_count": null,
   "metadata": {},
   "outputs": [],
   "source": [
    "# nama           = \"izuku midoriya\"\n",
    "# umur           =  16\n",
    "# jenisdata      = type(variable)\n",
    "# float_variable = float(int_variable)\n",
    "\n"
   ]
  },
  {
   "cell_type": "markdown",
   "metadata": {},
   "source": [
    "Let's move on to the next topic for syntax, **indentation**. Other programming languages usually don't require indentation for in line code, but programmers usually add it to improve readability. Python on the other hand uses indentation to indicate a block of code. Example:\n",
    "\n",
    "    if joey == handsome:\n",
    "        print(\"Notice me, senpai!\")\n",
    "    else:\n",
    "        print(\"That can't possibly be true?\")\n",
    "\n",
    "**Exercise 2: Are all of you above physics students, 18 years old and below 23 years old? By using the 'if' statement, print out your names given those conditions. Next, choose a random number to be your age and run that line again.**\n",
    "\n",
    "Hint:\n",
    "\n",
    "Comparison operators:\n",
    "\n",
    "    Equal:            a == b\n",
    "    Not equal:        a != b\n",
    "    Greater than:     a > b\n",
    "    Less than:        a < b\n",
    "    Greater or equal: a >= b\n",
    "    Less or equal:    a <= b\n",
    "\n",
    "Logical operators: \n",
    "\n",
    "    and \n",
    "    or "
   ]
  },
  {
   "cell_type": "code",
   "execution_count": null,
   "metadata": {},
   "outputs": [],
   "source": [
    "dept = physics\n",
    "\n"
   ]
  },
  {
   "cell_type": "markdown",
   "metadata": {},
   "source": [
    "Now, you have the variables but how do you use them in calculations? Python has arithmetic operators to perform common mathematical operations using those variables.\n",
    "\n",
    "    Add:        x + y\n",
    "    Subtract:   x - y\n",
    "    Multiply:   x * y\n",
    "    Divide:     x / y\n",
    "    Modulus of: x % y\n",
    "    Power of:   x ** y\n",
    "\n",
    "One can also reassign (update) the values in a variable:\n",
    "\n",
    "    x = x + 3  ->  x += 3\n",
    "    y = y - x  ->  y -= x\n",
    "    z = z / y  ->  z /= y\n",
    "    \n",
    "**Exercise 3: Given the equation 0 = 8x^2 - 6x + 1.125 , find the root using the quadratic formula. Update the root value by adding 6.66 and plug it in to the equation. Translate it into programming.**"
   ]
  },
  {
   "cell_type": "code",
   "execution_count": null,
   "metadata": {},
   "outputs": [],
   "source": [
    "\n",
    "\n"
   ]
  },
  {
   "cell_type": "markdown",
   "metadata": {},
   "source": [
    "As you've seen in the exercise 2, \"if else\" statements are sequential and are run over only once. There are moments where you want to run over them multiple times. Here, loop statements becomes useful.\n",
    "\n",
    "There are two type of loops: a while loop and a for loop.\n",
    "\n",
    "Example of a while loop:\n",
    "    \n",
    "    year = 1998\n",
    "    age  = 0\n",
    "    \n",
    "    while year < 2019:\n",
    "        year += 1\n",
    "        age  += 1\n",
    "        print(age)\n",
    "        \n",
    "Example of a for loop:\n",
    "\n",
    "    for year in range(1998, 2019):\n",
    "        age += 1\n",
    "        print(age)\n",
    "        \n",
    "**Exercise 4: Using the Fibonacci sequence, print out the numbers up to 1000. Use the \"while\" loop.**\n",
    "\n",
    "Hint: The Fibonacci Sequence\n",
    "\n",
    "$F_n = F_{n-1} + F_{n-2}$"
   ]
  },
  {
   "cell_type": "code",
   "execution_count": null,
   "metadata": {},
   "outputs": [],
   "source": []
  },
  {
   "cell_type": "markdown",
   "metadata": {},
   "source": [
    "Sometimes, you have two varying numbers that change independently. Then, one has to learn to use nested loops. Other times, you may want to skip the remaining sequence in the loops, then you will need to use loop control sequence (continue, break). \n",
    "\n",
    "Example (just a random code, has no meaning):\n",
    "\n",
    "    for i in range(50):\n",
    "        if i%2 == 2: \n",
    "            continue\n",
    "        for j in range(50):\n",
    "            k = i + j\n",
    "            if k > 50: \n",
    "                break\n",
    "                print(i, k, j)\n",
    "            \n",
    "\n",
    "**Exercise 5: Given the Rydberg constant, R = 1.097e-2, show the wavelength of hydrogen lines.**\n",
    "\n",
    "Hint: The Rydberg formula.\n",
    "\n",
    "$\\frac{1}{\\lambda} = R(\\frac{1}{n_1^2} - \\frac{1}{n_2^2})$"
   ]
  },
  {
   "cell_type": "code",
   "execution_count": null,
   "metadata": {},
   "outputs": [],
   "source": []
  },
  {
   "cell_type": "markdown",
   "metadata": {},
   "source": [
    "Some blocks of code are used multiple times but a different instances, mentioning them one by one would be cumbersome. Here, users can define functions themselves besides the ones provided normally. Example:\n",
    "\n",
    "    def function_name(parameter_1, parameter_2):\n",
    "    \n",
    "        value = parameter_1 + parameter_2\n",
    "        print(value)\n",
    "        \n",
    "        return value \n",
    "        \n",
    "Python is an interpreter language, hence user-defined functions need to be defined above before the main body. After that, the function may be called whenever required. Example:\n",
    "\n",
    "    y = 5\n",
    "    z = 6\n",
    "    x = function_name(y,z)\n",
    "    print(x)\n",
    "    \n",
    "**Exercise 6: **\n",
    "        \n"
   ]
  }
 ],
 "metadata": {
  "kernelspec": {
   "display_name": "Python 3",
   "language": "python",
   "name": "python3"
  }
 },
 "nbformat": 4,
 "nbformat_minor": 2
}
