{
 "cells": [
  {
   "cell_type": "markdown",
   "metadata": {},
   "source": [
    "# Introduction To Python"
   ]
  },
  {
   "cell_type": "markdown",
   "metadata": {},
   "source": [
    "Python is one of the many programming languages out there, and also one of the easiets and most widely used. If one understands its utility, Python is powerful and capable of doing a lot. Here, we will lay out the basic syntax and modules that are commonly used in basic programming that might be used in certain fields of physics (eg: particle physics, astrophysics, AMO physics, etc.) Enough chitchat, let's get on to it. Ikuzo!"
   ]
  },
  {
   "cell_type": "markdown",
   "metadata": {},
   "source": [
    "## Basic Syntax & Arithmetic"
   ]
  },
  {
   "cell_type": "markdown",
   "metadata": {},
   "source": [
    "Like other programming languages, Python requires users to declare variables beforehand most of the time, but unlike C or C++, Python is duck typed. How does that work?\n",
    "\n",
    "Duck typing enables programmers to not worry about the type of class of the variables, in contrast to hard typing which is the case for C & C++ (for those of you who have experience programming in them). Essentially, Python automatically knows and is able to differentiate between integers, floats and strings in most situations.\n",
    "\n",
    "Let's start out with a basic exercise. \n",
    "\n",
    "Exercise 1: Tell us your name and age in one line."
   ]
  },
  {
   "cell_type": "code",
   "execution_count": null,
   "metadata": {},
   "outputs": [],
   "source": []
  },
  {
   "cell_type": "markdown",
   "metadata": {},
   "source": [
    "Exercise 1.1: By using variables, tell us your name and age."
   ]
  },
  {
   "cell_type": "code",
   "execution_count": null,
   "metadata": {},
   "outputs": [],
   "source": []
  },
  {
   "cell_type": "markdown",
   "metadata": {},
   "source": [
    "Let's move on to the next topic for syntax, indentation. Other programming languages usually don't require indentation for in line code, but programmers usually add it to improve readability. Python on the other hand uses indentation to indicate a block of code.\n",
    "\n",
    "if joey == handsome:\n",
    ">  print(\"Notice me, senpai!\")\n",
    "\n",
    "Exercise 2: Are all of you above 18 years old? By using the 'if' statement, print out your names ONLY if you are above 18 years old."
   ]
  },
  {
   "cell_type": "code",
   "execution_count": null,
   "metadata": {},
   "outputs": [],
   "source": []
  }
 ],
 "metadata": {
  "kernelspec": {
   "display_name": "Python 3",
   "language": "python",
   "name": "python3"
  }
 },
 "nbformat": 4,
 "nbformat_minor": 2
}
