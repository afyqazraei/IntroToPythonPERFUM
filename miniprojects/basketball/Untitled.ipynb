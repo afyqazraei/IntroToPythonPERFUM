{
 "cells": [
  {
   "cell_type": "code",
   "execution_count": 20,
   "metadata": {},
   "outputs": [
    {
     "ename": "TypeError",
     "evalue": "'int' object is not callable",
     "output_type": "error",
     "traceback": [
      "\u001b[0;31m---------------------------------------------------------------------------\u001b[0m",
      "\u001b[0;31mTypeError\u001b[0m                                 Traceback (most recent call last)",
      "\u001b[0;32m<ipython-input-20-f56c1801bbeb>\u001b[0m in \u001b[0;36m<module>\u001b[0;34m\u001b[0m\n\u001b[1;32m      4\u001b[0m \u001b[0mt\u001b[0m\u001b[0;34m=\u001b[0m\u001b[0;36m0\u001b[0m\u001b[0;34m\u001b[0m\u001b[0;34m\u001b[0m\u001b[0m\n\u001b[1;32m      5\u001b[0m \u001b[0;32mfor\u001b[0m \u001b[0mi\u001b[0m \u001b[0;32min\u001b[0m \u001b[0mrange\u001b[0m \u001b[0;34m(\u001b[0m\u001b[0;36m10\u001b[0m\u001b[0;34m)\u001b[0m\u001b[0;34m:\u001b[0m\u001b[0;34m\u001b[0m\u001b[0;34m\u001b[0m\u001b[0m\n\u001b[0;32m----> 6\u001b[0;31m     \u001b[0myy\u001b[0m\u001b[0;34m=\u001b[0m\u001b[0my\u001b[0m\u001b[0;34m(\u001b[0m\u001b[0mi\u001b[0m\u001b[0;34m)\u001b[0m\u001b[0;34m\u001b[0m\u001b[0;34m\u001b[0m\u001b[0m\n\u001b[0m\u001b[1;32m      7\u001b[0m \u001b[0;34m\u001b[0m\u001b[0m\n\u001b[1;32m      8\u001b[0m \u001b[0;34m\u001b[0m\u001b[0m\n",
      "\u001b[0;31mTypeError\u001b[0m: 'int' object is not callable"
     ]
    }
   ],
   "source": [
    "import matplotlib.pyplot as mpl\n",
    "g=9.81\n",
    "y=0\n",
    "t=0\n",
    "for i in range (10):\n",
    "    yy=y(i)\n",
    "    \n",
    "    \n",
    "    y.append(yy)\n",
    "    \n",
    "    tt=t(i)\n",
    "    t.append(tt)\n",
    "    \n",
    "    print(t)\n",
    "    \n",
    "#mpl.plot(y,t)\n",
    "#mpl.show()"
   ]
  },
  {
   "cell_type": "code",
   "execution_count": 21,
   "metadata": {
    "scrolled": true
   },
   "outputs": [
    {
     "ename": "NameError",
     "evalue": "name 'box' is not defined",
     "output_type": "error",
     "traceback": [
      "\u001b[0;31m---------------------------------------------------------------------------\u001b[0m",
      "\u001b[0;31mNameError\u001b[0m                                 Traceback (most recent call last)",
      "\u001b[0;32m<ipython-input-21-7772fa57f639>\u001b[0m in \u001b[0;36m<module>\u001b[0;34m\u001b[0m\n\u001b[0;32m----> 1\u001b[0;31m \u001b[0mground\u001b[0m\u001b[0;34m=\u001b[0m\u001b[0mbox\u001b[0m\u001b[0;34m(\u001b[0m\u001b[0mpos\u001b[0m\u001b[0;34m=\u001b[0m\u001b[0mvector\u001b[0m\u001b[0;34m(\u001b[0m\u001b[0;36m0\u001b[0m\u001b[0;34m,\u001b[0m\u001b[0;36m0\u001b[0m\u001b[0;34m,\u001b[0m\u001b[0;36m0\u001b[0m\u001b[0;34m)\u001b[0m\u001b[0;34m,\u001b[0m \u001b[0msize\u001b[0m\u001b[0;34m=\u001b[0m\u001b[0mvector\u001b[0m\u001b[0;34m(\u001b[0m\u001b[0;36m10\u001b[0m\u001b[0;34m,\u001b[0m\u001b[0;36m0.2\u001b[0m\u001b[0;34m,\u001b[0m\u001b[0;36m1\u001b[0m\u001b[0;34m)\u001b[0m\u001b[0;34m,\u001b[0m \u001b[0mcolor\u001b[0m\u001b[0;34m=\u001b[0m\u001b[0mcolor\u001b[0m\u001b[0;34m.\u001b[0m\u001b[0mgreen\u001b[0m\u001b[0;34m)\u001b[0m\u001b[0;34m\u001b[0m\u001b[0;34m\u001b[0m\u001b[0m\n\u001b[0m\u001b[1;32m      2\u001b[0m \u001b[0mball\u001b[0m\u001b[0;34m=\u001b[0m\u001b[0msphere\u001b[0m\u001b[0;34m(\u001b[0m\u001b[0mpos\u001b[0m\u001b[0;34m=\u001b[0m\u001b[0mvector\u001b[0m\u001b[0;34m(\u001b[0m\u001b[0;34m-\u001b[0m\u001b[0;36m4.5\u001b[0m\u001b[0;34m,\u001b[0m\u001b[0;36m0\u001b[0m\u001b[0;34m,\u001b[0m\u001b[0;36m0\u001b[0m\u001b[0;34m)\u001b[0m\u001b[0;34m,\u001b[0m \u001b[0mradius\u001b[0m\u001b[0;34m=\u001b[0m\u001b[0;36m0.2\u001b[0m\u001b[0;34m,\u001b[0m \u001b[0mcolor\u001b[0m\u001b[0;34m=\u001b[0m\u001b[0mcolor\u001b[0m\u001b[0;34m.\u001b[0m\u001b[0myellow\u001b[0m\u001b[0;34m)\u001b[0m\u001b[0;34m\u001b[0m\u001b[0;34m\u001b[0m\u001b[0m\n\u001b[1;32m      3\u001b[0m \u001b[0;34m\u001b[0m\u001b[0m\n\u001b[1;32m      4\u001b[0m \u001b[0mg\u001b[0m\u001b[0;34m=\u001b[0m\u001b[0mvector\u001b[0m\u001b[0;34m(\u001b[0m\u001b[0;36m0\u001b[0m\u001b[0;34m,\u001b[0m\u001b[0;34m-\u001b[0m\u001b[0;36m9.8\u001b[0m\u001b[0;34m,\u001b[0m\u001b[0;36m0\u001b[0m\u001b[0;34m)\u001b[0m\u001b[0;34m\u001b[0m\u001b[0;34m\u001b[0m\u001b[0m\n\u001b[1;32m      5\u001b[0m \u001b[0mv0\u001b[0m\u001b[0;34m=\u001b[0m\u001b[0;36m8\u001b[0m\u001b[0;34m\u001b[0m\u001b[0;34m\u001b[0m\u001b[0m\n",
      "\u001b[0;31mNameError\u001b[0m: name 'box' is not defined"
     ]
    }
   ],
   "source": [
    "ground=box(pos=vector(0,0,0), size=vector(10,0.2,1), color=color.green)\n",
    "ball=sphere(pos=vector(-4.5,0,0), radius=0.2, color=color.yellow)\n",
    "\n",
    "g=vector(0,-9.8,0)\n",
    "v0=8\n",
    "theta=30*pi/180\n",
    "#cos(theta)\n",
    "#sin(theta)\n",
    "\n",
    "ball.m=0.5\n",
    "ball.v=vector(0,v0,0)\n",
    "\n",
    "\n",
    "t=0\n",
    "dt=0.01\n",
    "\n",
    "attach_trail(ball)\n",
    "\n",
    "while ball.pos.y>=0:\n",
    "  rate(100)\n",
    "  F=ball.m*g\n",
    "  ball.v=ball.v+(F/ball.m)*dt\n",
    "  ball.pos=ball.pos+ball.v*dt/ball.m\n",
    "  t=t+dt\n",
    "\n",
    "print(t)\n"
   ]
  },
  {
   "cell_type": "code",
   "execution_count": 22,
   "metadata": {},
   "outputs": [
    {
     "data": {
      "image/png": "[encoded data removed]",
      "text/plain": [
       "<Figure size 432x288 with 1 Axes>"
      ]
     },
     "metadata": {
      "needs_background": "light"
     },
     "output_type": "display_data"
    }
   ],
   "source": [
    "import matplotlib.pyplot as plt\n",
    "plt.plot([1, 2, 3, 4])\n",
    "plt.ylabel('some numbers')\n",
    "plt.show()"
   ]
  },
  {
   "cell_type": "code",
   "execution_count": 45,
   "metadata": {},
   "outputs": [
    {
     "name": "stdout",
     "output_type": "stream",
     "text": [
      "[ 0.   0.5  1.   1.5  2.   2.5  3.   3.5  4.   4.5  5.   5.5  6.   6.5\n",
      "  7.   7.5  8.   8.5  9.   9.5 10.  10.5 11.  11.5 12.  12.5 13.  13.5\n",
      " 14.  14.5 15.  15.5 16.  16.5 17.  17.5 18.  18.5 19.  19.5 20.  20.5\n",
      " 21.  21.5 22.  22.5 23.  23.5 24.  24.5 25.  25.5 26.  26.5 27.  27.5\n",
      " 28.  28.5 29.  29.5 30.  30.5 31.  31.5 32.  32.5 33.  33.5 34.  34.5\n",
      " 35.  35.5 36.  36.5 37.  37.5 38.  38.5 39.  39.5 40.  40.5 41.  41.5\n",
      " 42.  42.5 43.  43.5 44.  44.5 45.  45.5 46.  46.5 47.  47.5 48.  48.5\n",
      " 49.  49.5 50.  50.5 51.  51.5 52.  52.5 53.  53.5 54.  54.5 55.  55.5\n",
      " 56.  56.5 57.  57.5 58.  58.5 59.  59.5]\n"
     ]
    }
   ],
   "source": [
    "import numpy as np\n",
    "import matplotlib as plt\n",
    "\n",
    "t= np.arange(0.,60.0,0.5)\n",
    "print(t)\n"
   ]
  },
  {
   "cell_type": "code",
   "execution_count": 49,
   "metadata": {},
   "outputs": [
    {
     "name": "stdout",
     "output_type": "stream",
     "text": [
      "[0, 1]\n",
      "[0, 1, 2]\n",
      "[0, 1, 2, 3]\n",
      "[0, 1, 2, 3, 4]\n",
      "[0, 1, 2, 3, 4, 5]\n",
      "[0, 1, 2, 3, 4, 5, 6]\n",
      "[0, 1, 2, 3, 4, 5, 6, 7]\n",
      "[0, 1, 2, 3, 4, 5, 6, 7, 8]\n",
      "[0, 1, 2, 3, 4, 5, 6, 7, 8, 9]\n",
      "[0, 1, 2, 3, 4, 5, 6, 7, 8, 9, 10]\n"
     ]
    }
   ],
   "source": [
    "import matplotlib.pyplot as plt\n",
    "t=[0]\n",
    "y=[0]\n",
    "for i in range (10):\n",
    "    tt=t[i]+1\n",
    "    t.append(tt)\n",
    "    \n",
    "    print(t)\n"
   ]
  },
  {
   "cell_type": "code",
   "execution_count": 73,
   "metadata": {},
   "outputs": [
    {
     "name": "stdout",
     "output_type": "stream",
     "text": [
      "[1, 0]\n",
      "[1, 0, 0]\n",
      "[1, 0, 0, 0]\n",
      "[1, 0, 0, 0, 0]\n",
      "[1, 0, 0, 0, 0, 0]\n",
      "[1, 0, 0, 0, 0, 0, 0]\n",
      "[1, 0, 0, 0, 0, 0, 0, 0]\n",
      "[1, 0, 0, 0, 0, 0, 0, 0, 0]\n",
      "[1, 0, 0, 0, 0, 0, 0, 0, 0, 0]\n",
      "[1, 0, 0, 0, 0, 0, 0, 0, 0, 0, 0]\n"
     ]
    }
   ],
   "source": [
    "import numpy as np\n",
    "t=np.arange(0,11,1)\n",
    "y=[1]\n",
    "for i in range (10):\n",
    "    yy=y[i]* i\n",
    "    y.append(yy)\n",
    "    \n",
    "    print(y)\n",
    "    "
   ]
  },
  {
   "cell_type": "code",
   "execution_count": 74,
   "metadata": {},
   "outputs": [],
   "source": [
    "import numpy as np\n",
    "import matplotlib.pyplot as plt\n",
    "\n",
    "t=np.arange(0,11)\n"
   ]
  },
  {
   "cell_type": "code",
   "execution_count": 88,
   "metadata": {},
   "outputs": [
    {
     "ename": "SyntaxError",
     "evalue": "invalid syntax (<ipython-input-88-2f9518a72d4a>, line 1)",
     "output_type": "error",
     "traceback": [
      "\u001b[0;36m  File \u001b[0;32m\"<ipython-input-88-2f9518a72d4a>\"\u001b[0;36m, line \u001b[0;32m1\u001b[0m\n\u001b[0;31m    class Cannon:def __init__(self, x0, y0, v, angle):\u001b[0m\n\u001b[0m                   ^\u001b[0m\n\u001b[0;31mSyntaxError\u001b[0m\u001b[0;31m:\u001b[0m invalid syntax\n"
     ]
    }
   ],
   "source": [
    "class Cannon:def __init__(self, x0, y0, v, angle):\n",
    "    \"\"\"\n",
    "    x0 and y0 are initial coordinates of the cannon\n",
    "    v is the initial velocity\n",
    "    angle is the angle of shooting in degrees\n",
    "    \"\"\"\n",
    "    # current x and y coordinates of the missile\n",
    "    self.x    = x0\n",
    "    self.y    = y0\n",
    "    # current value of velocity components\n",
    "    self.vx  = v*cos(radians(angle))\n",
    "    self.vy  = v*sin(radians(angle))\n",
    "    # acceleration by x and y axes\n",
    "    self.ax   = 0\n",
    "    self.ay   = -9.8\n",
    "    # start time\n",
    "    self.time = 0\n",
    "    # these list will contain discrete set of missile coordinates\n",
    "    self.xarr = [self.x]\n",
    "    self.yarr = [self.y]\n",
    "    \n",
    "    def updateVx(self, dt):\n",
    "        self.vx = self.vx + self.ax*dt\n",
    "        return self.vx\n",
    "    def updateVy(self, dt):\n",
    "        self.vy = self.vy + self.ay*dt\n",
    "        return self.vy\n",
    "    def updateX(self, dt):\n",
    "        self.x = self.x + 0.5*(self.vx + self.updateVx(dt))*dt\n",
    "        return self.x\n",
    "    def updateY(self, dt):\n",
    "        self.y = self.y + 0.5*(self.vy + self.updateVy(dt))*dt\n",
    "        return self.y\n",
    "    def step(self, dt):\n",
    "        self.xarr.append(self.updateX(dt))\n",
    "        self.yarr.append(self.updateY(dt))\n",
    "        self.time = self.time + dt\n",
    "        \n",
    "from math import sin, cos, radians\n",
    "from matplotlib import pyplot as plt\n",
    "class Cannon:\n",
    "## The body of Cannon class is substituted here...\n",
    "...\n",
    "##\n",
    "def makeShoot(x0, y0, velocity, angle):\n",
    "    \"\"\"\n",
    "    Returns a tuple with sequential pairs of x and y coordinates\n",
    "    \"\"\"\n",
    "    cannon = Cannon(x0, y0, velocity, angle)\n",
    "    dt = 0.05 # time step\n",
    "    t = 0 # initial time\n",
    "    cannon.step(dt)\n",
    "    ###### THE  INTEGRATION ######\n",
    "    while cannon.y >= 0:\n",
    "        cannon.step(dt)\n",
    "        t = t + dt\n",
    "    ##############################\n",
    "    return (cannon.xarr, cannon.yarr)\n",
    "def main():\n",
    "    x0 = 0\n",
    "    y0 = 0\n",
    "    velocity = 10\n",
    "    x45, y45 = makeShoot(x0, y0, velocity, 45)\n",
    "    x30, y30 = makeShoot(x0, y0, velocity, 30)\n",
    "    x60, y60 = makeShoot(x0, y0, velocity, 60)\n",
    "    plt.plot(x45, y45, 'bo-', x30, y30, 'ro-', x60, y60, 'ko-',\n",
    "        [0, 12], [0, 0], 'k-' # ground\n",
    "        )\n",
    "    plt.legend(['45 deg shoot', '30 deg shoot', '60 deg shoot'])\n",
    "    plt.xlabel('X coordinate (m)')\n",
    "    plt.ylabel('Y coordinate (m)')\n",
    "    plt.show()\n",
    "if __name__ == '__main__':\n",
    "    main()"
   ]
  },
  {
   "cell_type": "code",
   "execution_count": 83,
   "metadata": {},
   "outputs": [
    {
     "ename": "SyntaxError",
     "evalue": "'return' outside function (<ipython-input-83-0250a0301f2b>, line 18)",
     "output_type": "error",
     "traceback": [
      "\u001b[0;36m  File \u001b[0;32m\"<ipython-input-83-0250a0301f2b>\"\u001b[0;36m, line \u001b[0;32m18\u001b[0m\n\u001b[0;31m    return (cannon.xarr, cannon.yarr)\u001b[0m\n\u001b[0m    ^\u001b[0m\n\u001b[0;31mSyntaxError\u001b[0m\u001b[0;31m:\u001b[0m 'return' outside function\n"
     ]
    }
   ],
   "source": [
    "from math import sin, cos, radians\n",
    "from matplotlib import pyplot as plt\n",
    "class Cannon:\n",
    "## The body of Cannon class is substituted here...\n",
    "\n",
    "##\n",
    "    def makeShoot(x0, y0, velocity, angle):\n",
    "\n",
    "        cannon = Cannon(x0, y0, velocity, angle)\n",
    "        dt = 0.05 # time step\n",
    "        t = 0 # initial time\n",
    "        cannon.step(dt)\n",
    "    ###### THE  INTEGRATION ######\n",
    "    while cannon.y >= 0:\n",
    "        cannon.step(dt)\n",
    "        t = t + dt\n",
    "   \n",
    "    return (cannon.xarr, cannon.yarr)\n",
    "    def main():\n",
    "        x0 = 0\n",
    "        y0 = 0\n",
    "        velocity = 10\n",
    "        x45, y45 = makeShoot(x0, y0, velocity, 45)\n",
    "        x30, y30 = makeShoot(x0, y0, velocity, 30)\n",
    "        x60, y60 = makeShoot(x0, y0, velocity, 60)\n",
    "        plt.plot(x45, y45, 'bo-', x30, y30, 'ro-', x60, y60, 'ko-',\n",
    "        [0, 12], [0, 0], 'k-' # ground\n",
    "        )\n",
    "    plt.legend(['45 deg shoot', '30 deg shoot', '60 deg shoot'])\n",
    "    plt.xlabel('X coordinate (m)')\n",
    "    plt.ylabel('Y coordinate (m)')\n",
    "    plt.show()\n",
    "if __name__ == '__main__':\n",
    "    main()"
   ]
  },
  {
   "cell_type": "code",
   "execution_count": 86,
   "metadata": {},
   "outputs": [
    {
     "ename": "NameError",
     "evalue": "name 'makeShoot' is not defined",
     "output_type": "error",
     "traceback": [
      "\u001b[0;31m---------------------------------------------------------------------------\u001b[0m",
      "\u001b[0;31mNameError\u001b[0m                                 Traceback (most recent call last)",
      "\u001b[0;32m<ipython-input-86-99e1fb0255ef>\u001b[0m in \u001b[0;36m<module>\u001b[0;34m\u001b[0m\n\u001b[1;32m      1\u001b[0m \u001b[0;32mfrom\u001b[0m \u001b[0mmath\u001b[0m \u001b[0;32mimport\u001b[0m \u001b[0msin\u001b[0m\u001b[0;34m,\u001b[0m \u001b[0mcos\u001b[0m\u001b[0;34m,\u001b[0m \u001b[0mradians\u001b[0m\u001b[0;34m\u001b[0m\u001b[0;34m\u001b[0m\u001b[0m\n\u001b[1;32m      2\u001b[0m \u001b[0;32mfrom\u001b[0m \u001b[0mmatplotlib\u001b[0m \u001b[0;32mimport\u001b[0m \u001b[0mpyplot\u001b[0m \u001b[0;32mas\u001b[0m \u001b[0mplt\u001b[0m\u001b[0;34m\u001b[0m\u001b[0;34m\u001b[0m\u001b[0m\n\u001b[0;32m----> 3\u001b[0;31m \u001b[0;32mclass\u001b[0m \u001b[0mCannon\u001b[0m\u001b[0;34m:\u001b[0m\u001b[0;34m\u001b[0m\u001b[0;34m\u001b[0m\u001b[0m\n\u001b[0m\u001b[1;32m      4\u001b[0m \u001b[0;34m\u001b[0m\u001b[0m\n\u001b[1;32m      5\u001b[0m     \u001b[0;32mdef\u001b[0m \u001b[0mmakeShoot\u001b[0m\u001b[0;34m(\u001b[0m\u001b[0mx0\u001b[0m\u001b[0;34m,\u001b[0m \u001b[0my0\u001b[0m\u001b[0;34m,\u001b[0m \u001b[0mvelocity\u001b[0m\u001b[0;34m,\u001b[0m \u001b[0mangle\u001b[0m\u001b[0;34m)\u001b[0m\u001b[0;34m:\u001b[0m\u001b[0;34m\u001b[0m\u001b[0;34m\u001b[0m\u001b[0m\n",
      "\u001b[0;32m<ipython-input-86-99e1fb0255ef>\u001b[0m in \u001b[0;36mCannon\u001b[0;34m()\u001b[0m\n\u001b[1;32m     30\u001b[0m         \u001b[0mplt\u001b[0m\u001b[0;34m.\u001b[0m\u001b[0mshow\u001b[0m\u001b[0;34m(\u001b[0m\u001b[0;34m)\u001b[0m\u001b[0;34m\u001b[0m\u001b[0;34m\u001b[0m\u001b[0m\n\u001b[1;32m     31\u001b[0m     \u001b[0;32mif\u001b[0m \u001b[0m__name__\u001b[0m \u001b[0;34m==\u001b[0m \u001b[0;34m'__main__'\u001b[0m\u001b[0;34m:\u001b[0m\u001b[0;34m\u001b[0m\u001b[0;34m\u001b[0m\u001b[0m\n\u001b[0;32m---> 32\u001b[0;31m         \u001b[0mmain\u001b[0m\u001b[0;34m(\u001b[0m\u001b[0;34m)\u001b[0m\u001b[0;34m\u001b[0m\u001b[0;34m\u001b[0m\u001b[0m\n\u001b[0m",
      "\u001b[0;32m<ipython-input-86-99e1fb0255ef>\u001b[0m in \u001b[0;36mmain\u001b[0;34m()\u001b[0m\n\u001b[1;32m     19\u001b[0m         \u001b[0my0\u001b[0m \u001b[0;34m=\u001b[0m \u001b[0;36m0\u001b[0m\u001b[0;34m\u001b[0m\u001b[0;34m\u001b[0m\u001b[0m\n\u001b[1;32m     20\u001b[0m         \u001b[0mvelocity\u001b[0m \u001b[0;34m=\u001b[0m \u001b[0;36m10\u001b[0m\u001b[0;34m\u001b[0m\u001b[0;34m\u001b[0m\u001b[0m\n\u001b[0;32m---> 21\u001b[0;31m         \u001b[0mx45\u001b[0m\u001b[0;34m,\u001b[0m \u001b[0my45\u001b[0m \u001b[0;34m=\u001b[0m \u001b[0mmakeShoot\u001b[0m\u001b[0;34m(\u001b[0m\u001b[0mx0\u001b[0m\u001b[0;34m,\u001b[0m \u001b[0my0\u001b[0m\u001b[0;34m,\u001b[0m \u001b[0mvelocity\u001b[0m\u001b[0;34m,\u001b[0m \u001b[0;36m45\u001b[0m\u001b[0;34m)\u001b[0m\u001b[0;34m\u001b[0m\u001b[0;34m\u001b[0m\u001b[0m\n\u001b[0m\u001b[1;32m     22\u001b[0m         \u001b[0mx30\u001b[0m\u001b[0;34m,\u001b[0m \u001b[0my30\u001b[0m \u001b[0;34m=\u001b[0m \u001b[0mmakeShoot\u001b[0m\u001b[0;34m(\u001b[0m\u001b[0mx0\u001b[0m\u001b[0;34m,\u001b[0m \u001b[0my0\u001b[0m\u001b[0;34m,\u001b[0m \u001b[0mvelocity\u001b[0m\u001b[0;34m,\u001b[0m \u001b[0;36m30\u001b[0m\u001b[0;34m)\u001b[0m\u001b[0;34m\u001b[0m\u001b[0;34m\u001b[0m\u001b[0m\n\u001b[1;32m     23\u001b[0m         \u001b[0mx60\u001b[0m\u001b[0;34m,\u001b[0m \u001b[0my60\u001b[0m \u001b[0;34m=\u001b[0m \u001b[0mmakeShoot\u001b[0m\u001b[0;34m(\u001b[0m\u001b[0mx0\u001b[0m\u001b[0;34m,\u001b[0m \u001b[0my0\u001b[0m\u001b[0;34m,\u001b[0m \u001b[0mvelocity\u001b[0m\u001b[0;34m,\u001b[0m \u001b[0;36m60\u001b[0m\u001b[0;34m)\u001b[0m\u001b[0;34m\u001b[0m\u001b[0;34m\u001b[0m\u001b[0m\n",
      "\u001b[0;31mNameError\u001b[0m: name 'makeShoot' is not defined"
     ]
    }
   ],
   "source": [
    "from math import sin, cos, radians\n",
    "from matplotlib import pyplot as plt\n",
    "class Cannon:\n",
    "\n",
    "    def makeShoot(x0, y0, velocity, angle):\n",
    "\n",
    "        cannon = Cannon(x0, y0, velocity, angle)\n",
    "        dt = 0.05 # time step\n",
    "        t = 0 # initial time\n",
    "        cannon.step(dt)\n",
    "\n",
    "        while cannon.y >= 0:\n",
    "            cannon.step(dt)\n",
    "            t = t + dt\n",
    "\n",
    "        return (cannon.xarr, cannon.yarr)\n",
    "    def main():\n",
    "        x0 = 0\n",
    "        y0 = 0\n",
    "        velocity = 10\n",
    "        x45, y45 = makeShoot(x0, y0, velocity, 45)\n",
    "        x30, y30 = makeShoot(x0, y0, velocity, 30)\n",
    "        x60, y60 = makeShoot(x0, y0, velocity, 60)\n",
    "        plt.plot(x45, y45, 'bo-', x30, y30, 'ro-', x60, y60, 'ko-',\n",
    "            [0, 12], [0, 0], 'k-' # ground\n",
    "            )\n",
    "        plt.legend(['45 deg shoot', '30 deg shoot', '60 deg shoot'])\n",
    "        plt.xlabel('X coordinate (m)')\n",
    "        plt.ylabel('Y coordinate (m)')\n",
    "        plt.show()\n",
    "    if __name__ == '__main__':\n",
    "        main()"
   ]
  },
  {
   "cell_type": "code",
   "execution_count": null,
   "metadata": {},
   "outputs": [],
   "source": []
  },
  {
   "cell_type": "code",
   "execution_count": null,
   "metadata": {},
   "outputs": [],
   "source": []
  }
 ],
 "metadata": {
  "kernelspec": {
   "display_name": "Python 3",
   "language": "python",
   "name": "python3"
  },
  "language_info": {
   "codemirror_mode": {
    "name": "ipython",
    "version": 3
   },
   "file_extension": ".py",
   "mimetype": "text/x-python",
   "name": "python",
   "nbconvert_exporter": "python",
   "pygments_lexer": "ipython3",
   "version": "3.7.4"
  }
 },
 "nbformat": 4,
 "nbformat_minor": 2
}
