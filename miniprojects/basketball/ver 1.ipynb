{
 "cells": [
  {
   "cell_type": "code",
   "execution_count": 1,
   "metadata": {},
   "outputs": [
    {
     "data": {
      "text/plain": [
       "<Figure size 640x480 with 1 Axes>"
      ]
     },
     "metadata": {},
     "output_type": "display_data"
    }
   ],
   "source": [
    "import numpy as np\n",
    "import matplotlib.pylab as plot\n",
    "import math as m\n",
    "#initialize variables\n",
    "#velocity, gravity\n",
    "v = 30\n",
    "g = 9.8\n",
    "#increment theta 25 to 60 then find  t, x, y\n",
    "#define x and y as arrays\n",
    "\n",
    "theta = np.arange(m.pi/6, m.pi/3, m.pi/36)\n",
    "\n",
    "t = np.linspace(0, 5, num=100) # Set time as 'continous' parameter.\n",
    "\n",
    "for i in theta: # Calculate trajectory for every angle\n",
    "    x1 = []\n",
    "    y1 = []\n",
    "    for k in t:\n",
    "        x = ((v*k)*np.cos(i)) # get positions at every point in time\n",
    "        y = ((v*k)*np.sin(i))-((0.5*g)*(k**2))\n",
    "        x1.append(x)\n",
    "        y1.append(y)\n",
    "    p = [i for i, j in enumerate(y1) if j < 0] # Don't fall through the floor                          \n",
    "    for i in sorted(p, reverse = True):\n",
    "        del x1[i]\n",
    "        del y1[i]\n",
    "\n",
    "    plot.plot(x1, y1) # Plot for every angle\n",
    "\n",
    "plot.show() # And show on one graphic"
   ]
  },
  {
   "cell_type": "code",
   "execution_count": null,
   "metadata": {},
   "outputs": [],
   "source": []
  }
 ],
 "metadata": {
  "kernelspec": {
   "display_name": "Python 3",
   "language": "python",
   "name": "python3"
  },
  "language_info": {
   "codemirror_mode": {
    "name": "ipython",
    "version": 3
   },
   "file_extension": ".py",
   "mimetype": "text/x-python",
   "name": "python",
   "nbconvert_exporter": "python",
   "pygments_lexer": "ipython3",
   "version": "3.7.4"
  }
 },
 "nbformat": 4,
 "nbformat_minor": 2
}
